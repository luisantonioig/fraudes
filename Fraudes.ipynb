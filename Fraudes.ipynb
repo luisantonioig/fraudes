{
 "cells": [
  {
   "cell_type": "markdown",
   "metadata": {},
   "source": [
    "Nota: Antes de iniciar a hacerlo vi unos ejemplos que ya estaban realizados de los cuales me basé. Al final están los créditos."
   ]
  },
  {
   "cell_type": "code",
   "execution_count": 1,
   "metadata": {
    "collapsed": true
   },
   "outputs": [],
   "source": [
    "%matplotlib inline\n",
    "\n",
    "import numpy as np\n",
    "import pandas as pd\n",
    "import matplotlib.pyplot as plt\n",
    "import seaborn as sns"
   ]
  },
  {
   "cell_type": "markdown",
   "metadata": {},
   "source": [
    "# Análisis exploratorio"
   ]
  },
  {
   "cell_type": "markdown",
   "metadata": {},
   "source": [
    "Ver el formato de los datos, la mayoría de los datos están normalizados menos Amount y Time, pero la columna de Time no es complétamente necesaria."
   ]
  },
  {
   "cell_type": "code",
   "execution_count": 2,
   "metadata": {},
   "outputs": [
    {
     "name": "stdout",
     "output_type": "stream",
     "text": [
      "   Time        V1        V2        V3        V4        V5        V6        V7  \\\n",
      "0   0.0 -1.359807 -0.072781  2.536347  1.378155 -0.338321  0.462388  0.239599   \n",
      "1   0.0  1.191857  0.266151  0.166480  0.448154  0.060018 -0.082361 -0.078803   \n",
      "2   1.0 -1.358354 -1.340163  1.773209  0.379780 -0.503198  1.800499  0.791461   \n",
      "3   1.0 -0.966272 -0.185226  1.792993 -0.863291 -0.010309  1.247203  0.237609   \n",
      "4   2.0 -1.158233  0.877737  1.548718  0.403034 -0.407193  0.095921  0.592941   \n",
      "\n",
      "         V8        V9  ...         V21       V22       V23       V24  \\\n",
      "0  0.098698  0.363787  ...   -0.018307  0.277838 -0.110474  0.066928   \n",
      "1  0.085102 -0.255425  ...   -0.225775 -0.638672  0.101288 -0.339846   \n",
      "2  0.247676 -1.514654  ...    0.247998  0.771679  0.909412 -0.689281   \n",
      "3  0.377436 -1.387024  ...   -0.108300  0.005274 -0.190321 -1.175575   \n",
      "4 -0.270533  0.817739  ...   -0.009431  0.798278 -0.137458  0.141267   \n",
      "\n",
      "        V25       V26       V27       V28  Amount  Class  \n",
      "0  0.128539 -0.189115  0.133558 -0.021053  149.62      0  \n",
      "1  0.167170  0.125895 -0.008983  0.014724    2.69      0  \n",
      "2 -0.327642 -0.139097 -0.055353 -0.059752  378.66      0  \n",
      "3  0.647376 -0.221929  0.062723  0.061458  123.50      0  \n",
      "4 -0.206010  0.502292  0.219422  0.215153   69.99      0  \n",
      "\n",
      "[5 rows x 31 columns]\n"
     ]
    }
   ],
   "source": [
    "data= pd.read_csv(\"creditcard.csv\")\n",
    "print(data.head())"
   ]
  },
  {
   "cell_type": "markdown",
   "metadata": {},
   "source": [
    "Vemos cuantos datos tenemos en total"
   ]
  },
  {
   "cell_type": "code",
   "execution_count": 3,
   "metadata": {},
   "outputs": [
    {
     "data": {
      "text/plain": [
       "(284807, 31)"
      ]
     },
     "execution_count": 3,
     "metadata": {},
     "output_type": "execute_result"
    }
   ],
   "source": [
    "data.shape"
   ]
  },
  {
   "cell_type": "code",
   "execution_count": 4,
   "metadata": {},
   "outputs": [
    {
     "data": {
      "text/plain": [
       "<matplotlib.axes._subplots.AxesSubplot at 0x7fcf20793a58>"
      ]
     },
     "execution_count": 4,
     "metadata": {},
     "output_type": "execute_result"
    },
    {
     "data": {
      "image/png": "[encoded data removed]",
      "text/plain": [
       "<matplotlib.figure.Figure at 0x7fcf20793c18>"
      ]
     },
     "metadata": {},
     "output_type": "display_data"
    }
   ],
   "source": [
    "count_Class=pd.value_counts(data[\"Class\"], sort= True)\n",
    "count_Class.plot(kind= 'bar', figsize=(8, 10))"
   ]
  },
  {
   "cell_type": "code",
   "execution_count": 5,
   "metadata": {},
   "outputs": [
    {
     "data": {
      "text/plain": [
       "0    284315\n",
       "1       492\n",
       "Name: Class, dtype: int64"
      ]
     },
     "execution_count": 5,
     "metadata": {},
     "output_type": "execute_result"
    }
   ],
   "source": [
    "count_Class"
   ]
  },
  {
   "cell_type": "markdown",
   "metadata": {},
   "source": [
    "Vemos que el total de casos de fraude es mucho menor que el número total de casos normales. Existen 284315 casos de transacciones normales y 492 casos de fraude"
   ]
  },
  {
   "cell_type": "markdown",
   "metadata": {},
   "source": [
    "Si creamos el modelo con estos datos obtendríamos un modelo que predice como una transacción normal la mayoría de las veces ya que no cuenta con suficientes datos de transacciones fraudulentas por lo que necesitamos cambiar los datos, en este caso se va a hacer un undersample que consiste en elegir solo una porción de los datos que representan la mayoría para que quede una proporción de 50% y 50%."
   ]
  },
  {
   "cell_type": "code",
   "execution_count": 6,
   "metadata": {},
   "outputs": [
    {
     "name": "stdout",
     "output_type": "stream",
     "text": [
      "        Time        V1        V2        V3        V4        V5        V6  \\\n",
      "541    406.0 -2.312227  1.951992 -1.609851  3.997906 -0.522188 -1.426545   \n",
      "623    472.0 -3.043541 -3.157307  1.088463  2.288644  1.359805 -1.064823   \n",
      "4920  4462.0 -2.303350  1.759247 -0.359745  2.330243 -0.821628 -0.075788   \n",
      "6108  6986.0 -4.397974  1.358367 -2.592844  2.679787 -1.128131 -1.706536   \n",
      "6329  7519.0  1.234235  3.019740 -4.304597  4.732795  3.624201 -1.357746   \n",
      "\n",
      "            V7        V8        V9  ...         V21       V22       V23  \\\n",
      "541  -2.537387  1.391657 -2.770089  ...    0.517232 -0.035049 -0.465211   \n",
      "623   0.325574 -0.067794 -0.270953  ...    0.661696  0.435477  1.375966   \n",
      "4920  0.562320 -0.399147 -0.238253  ...   -0.294166 -0.932391  0.172726   \n",
      "6108 -3.496197 -0.248778 -0.247768  ...    0.573574  0.176968 -0.436207   \n",
      "6329  1.713445 -0.496358 -1.282858  ...   -0.379068 -0.704181 -0.656805   \n",
      "\n",
      "           V24       V25       V26       V27       V28  Amount  Class  \n",
      "541   0.320198  0.044519  0.177840  0.261145 -0.143276    0.00      1  \n",
      "623  -0.293803  0.279798 -0.145362 -0.252773  0.035764  529.00      1  \n",
      "4920 -0.087330 -0.156114 -0.542628  0.039566 -0.153029  239.93      1  \n",
      "6108 -0.053502  0.252405 -0.657488 -0.827136  0.849573   59.00      1  \n",
      "6329 -1.632653  1.488901  0.566797 -0.010016  0.146793    1.00      1  \n",
      "\n",
      "[5 rows x 31 columns]\n"
     ]
    }
   ],
   "source": [
    "No_of_frauds= len(data[data[\"Class\"]==1])\n",
    "fraud_index= np.array(data[data[\"Class\"]==1].index)\n",
    "normal_index= data[data[\"Class\"]==0].index\n",
    "\n",
    "## Se eligen aleatoreamente los índices para los datos de transacciones fraudulentas\n",
    "random_normal_indices= np.random.choice(normal_index, No_of_frauds, replace= False)\n",
    "random_normal_indices= np.array(random_normal_indices)\n",
    "undersampled_indices= np.concatenate([fraud_index, random_normal_indices])\n",
    "undersampled_data= data.iloc[undersampled_indices, :]\n",
    "print(undersampled_data.head())"
   ]
  },
  {
   "cell_type": "code",
   "execution_count": 7,
   "metadata": {},
   "outputs": [
    {
     "data": {
      "text/plain": [
       "(984, 31)"
      ]
     },
     "execution_count": 7,
     "metadata": {},
     "output_type": "execute_result"
    }
   ],
   "source": [
    "undersampled_data.shape"
   ]
  },
  {
   "cell_type": "code",
   "execution_count": 8,
   "metadata": {},
   "outputs": [
    {
     "data": {
      "text/plain": [
       "<matplotlib.axes._subplots.AxesSubplot at 0x7fcf1bb9dd68>"
      ]
     },
     "execution_count": 8,
     "metadata": {},
     "output_type": "execute_result"
    },
    {
     "data": {
      "image/png": "[encoded data removed]",
      "text/plain": [
       "<matplotlib.figure.Figure at 0x7fcf1bb96390>"
      ]
     },
     "metadata": {},
     "output_type": "display_data"
    }
   ],
   "source": [
    "count_Class=pd.value_counts(undersampled_data[\"Class\"], sort= True)\n",
    "count_Class.plot(kind= 'bar', figsize=(8, 8))"
   ]
  },
  {
   "cell_type": "markdown",
   "metadata": {},
   "source": [
    "Ahora se normaliza la columna de \"amount\""
   ]
  },
  {
   "cell_type": "code",
   "execution_count": 9,
   "metadata": {},
   "outputs": [
    {
     "name": "stdout",
     "output_type": "stream",
     "text": [
      "            V1        V2        V3        V4        V5        V6        V7  \\\n",
      "541  -2.312227  1.951992 -1.609851  3.997906 -0.522188 -1.426545 -2.537387   \n",
      "623  -3.043541 -3.157307  1.088463  2.288644  1.359805 -1.064823  0.325574   \n",
      "4920 -2.303350  1.759247 -0.359745  2.330243 -0.821628 -0.075788  0.562320   \n",
      "6108 -4.397974  1.358367 -2.592844  2.679787 -1.128131 -1.706536 -3.496197   \n",
      "6329  1.234235  3.019740 -4.304597  4.732795  3.624201 -1.357746  1.713445   \n",
      "\n",
      "            V8        V9       V10      ...             V21       V22  \\\n",
      "541   1.391657 -2.770089 -2.772272      ...        0.517232 -0.035049   \n",
      "623  -0.067794 -0.270953 -0.838587      ...        0.661696  0.435477   \n",
      "4920 -0.399147 -0.238253 -1.525412      ...       -0.294166 -0.932391   \n",
      "6108 -0.248778 -0.247768 -4.801637      ...        0.573574  0.176968   \n",
      "6329 -0.496358 -1.282858 -2.447469      ...       -0.379068 -0.704181   \n",
      "\n",
      "           V23       V24       V25       V26       V27       V28  Class  \\\n",
      "541  -0.465211  0.320198  0.044519  0.177840  0.261145 -0.143276      1   \n",
      "623   1.375966 -0.293803  0.279798 -0.145362 -0.252773  0.035764      1   \n",
      "4920  0.172726 -0.087330 -0.156114 -0.542628  0.039566 -0.153029      1   \n",
      "6108 -0.436207 -0.053502  0.252405 -0.657488 -0.827136  0.849573      1   \n",
      "6329 -0.656805 -1.632653  1.488901  0.566797 -0.010016  0.146793      1   \n",
      "\n",
      "      scaled_Amount  \n",
      "541       -0.462767  \n",
      "623        1.970802  \n",
      "4920       0.640988  \n",
      "6108      -0.191348  \n",
      "6329      -0.458166  \n",
      "\n",
      "[5 rows x 30 columns]\n"
     ]
    },
    {
     "name": "stderr",
     "output_type": "stream",
     "text": [
      "/home/antonio/anaconda3/lib/python3.6/site-packages/ipykernel_launcher.py:3: SettingWithCopyWarning: \n",
      "A value is trying to be set on a copy of a slice from a DataFrame.\n",
      "Try using .loc[row_indexer,col_indexer] = value instead\n",
      "\n",
      "See the caveats in the documentation: http://pandas.pydata.org/pandas-docs/stable/indexing.html#indexing-view-versus-copy\n",
      "  This is separate from the ipykernel package so we can avoid doing imports until\n"
     ]
    }
   ],
   "source": [
    "from sklearn.preprocessing import StandardScaler\n",
    "sc= StandardScaler()\n",
    "undersampled_data[\"scaled_Amount\"]=  sc.fit_transform(undersampled_data.iloc[:,29].values.reshape(-1,1))\n",
    "\n",
    "## Se remueve los datos de tiempo y amount anterior\n",
    "undersampled_data= undersampled_data.drop([\"Time\",\"Amount\"], axis= 1)\n",
    "print(undersampled_data.head())"
   ]
  },
  {
   "cell_type": "code",
   "execution_count": 10,
   "metadata": {
    "collapsed": true
   },
   "outputs": [],
   "source": [
    "from sklearn.model_selection import train_test_split\n",
    "X= undersampled_data.iloc[:, undersampled_data.columns != \"Class\"].values\n",
    "y= undersampled_data.iloc[:, undersampled_data.columns == \"Class\"].values\n",
    "\n",
    "X_train, X_test, y_train, y_test = train_test_split(X, y, test_size= 0.25, random_state= 0)"
   ]
  },
  {
   "cell_type": "code",
   "execution_count": 11,
   "metadata": {},
   "outputs": [
    {
     "data": {
      "text/plain": [
       "(738, 29)"
      ]
     },
     "execution_count": 11,
     "metadata": {},
     "output_type": "execute_result"
    }
   ],
   "source": [
    "X_train.shape"
   ]
  },
  {
   "cell_type": "code",
   "execution_count": 12,
   "metadata": {},
   "outputs": [
    {
     "data": {
      "text/plain": [
       "(246, 29)"
      ]
     },
     "execution_count": 12,
     "metadata": {},
     "output_type": "execute_result"
    }
   ],
   "source": [
    "X_test.shape"
   ]
  },
  {
   "cell_type": "code",
   "execution_count": 13,
   "metadata": {},
   "outputs": [
    {
     "data": {
      "text/plain": [
       "(738, 1)"
      ]
     },
     "execution_count": 13,
     "metadata": {},
     "output_type": "execute_result"
    }
   ],
   "source": [
    "y_train.shape"
   ]
  },
  {
   "cell_type": "code",
   "execution_count": 14,
   "metadata": {},
   "outputs": [
    {
     "data": {
      "text/plain": [
       "(246, 1)"
      ]
     },
     "execution_count": 14,
     "metadata": {},
     "output_type": "execute_result"
    }
   ],
   "source": [
    "y_test.shape"
   ]
  },
  {
   "cell_type": "code",
   "execution_count": 15,
   "metadata": {},
   "outputs": [
    {
     "data": {
      "text/plain": [
       "SVC(C=1, cache_size=200, class_weight=None, coef0=0.0,\n",
       "  decision_function_shape='ovr', degree=3, gamma='auto', kernel='rbf',\n",
       "  max_iter=-1, probability=False, random_state=0, shrinking=True,\n",
       "  tol=0.001, verbose=False)"
      ]
     },
     "execution_count": 15,
     "metadata": {},
     "output_type": "execute_result"
    }
   ],
   "source": [
    "from sklearn.svm import SVC\n",
    "classifier= SVC(C= 1, kernel= 'rbf', random_state= 0)\n",
    "classifier.fit(X_train, y_train.ravel())"
   ]
  },
  {
   "cell_type": "code",
   "execution_count": 16,
   "metadata": {},
   "outputs": [
    {
     "data": {
      "text/plain": [
       "0.065040650406504072"
      ]
     },
     "execution_count": 16,
     "metadata": {},
     "output_type": "execute_result"
    }
   ],
   "source": [
    "from sklearn import metrics\n",
    "metrics.mean_absolute_error(y_test.ravel(), classifier.predict(X_test))"
   ]
  },
  {
   "cell_type": "code",
   "execution_count": 17,
   "metadata": {},
   "outputs": [
    {
     "name": "stdout",
     "output_type": "stream",
     "text": [
      "[ 0.90540541  0.85135135  0.9527027   0.94557823  0.9047619 ]\n"
     ]
    },
    {
     "name": "stderr",
     "output_type": "stream",
     "text": [
      "/home/antonio/anaconda3/lib/python3.6/site-packages/sklearn/cross_validation.py:41: DeprecationWarning: This module was deprecated in version 0.18 in favor of the model_selection module into which all the refactored classes and functions are moved. Also note that the interface of the new CV iterators are different from that of this module. This module will be removed in 0.20.\n",
      "  \"This module will be removed in 0.20.\", DeprecationWarning)\n"
     ]
    }
   ],
   "source": [
    "from sklearn import cross_validation\n",
    "resultado =  cross_validation.cross_val_score(classifier, X_train,y_train.ravel(),cv=5,scoring='accuracy')\n",
    "print(resultado)"
   ]
  },
  {
   "cell_type": "code",
   "execution_count": 18,
   "metadata": {},
   "outputs": [
    {
     "data": {
      "text/plain": [
       "LogisticRegression(C=0.01, class_weight=None, dual=False, fit_intercept=True,\n",
       "          intercept_scaling=1, max_iter=100, multi_class='ovr', n_jobs=1,\n",
       "          penalty='l1', random_state=None, solver='liblinear', tol=0.0001,\n",
       "          verbose=0, warm_start=False)"
      ]
     },
     "execution_count": 18,
     "metadata": {},
     "output_type": "execute_result"
    }
   ],
   "source": [
    "from sklearn.linear_model import LogisticRegression\n",
    "lr = LogisticRegression(C = 0.01, penalty = \"l1\")\n",
    "lr.fit(X_train,y_train.ravel())"
   ]
  },
  {
   "cell_type": "code",
   "execution_count": 19,
   "metadata": {},
   "outputs": [
    {
     "data": {
      "text/plain": [
       "0.06910569105691057"
      ]
     },
     "execution_count": 19,
     "metadata": {},
     "output_type": "execute_result"
    }
   ],
   "source": [
    "from sklearn import metrics\n",
    "metrics.mean_absolute_error(y_test.ravel(), lr.predict(X_test))"
   ]
  },
  {
   "cell_type": "code",
   "execution_count": 20,
   "metadata": {},
   "outputs": [
    {
     "name": "stdout",
     "output_type": "stream",
     "text": [
      "[ 0.83108108  0.80405405  0.81756757  0.85714286  0.81632653]\n"
     ]
    }
   ],
   "source": [
    "from sklearn import cross_validation\n",
    "resultado =  cross_validation.cross_val_score(lr, X_train,y_train.ravel(),cv=5,scoring='accuracy')\n",
    "print(resultado)"
   ]
  },
  {
   "cell_type": "code",
   "execution_count": 21,
   "metadata": {},
   "outputs": [
    {
     "data": {
      "image/png": "[encoded data removed]",
      "text/plain": [
       "<matplotlib.figure.Figure at 0x7fcf12038470>"
      ]
     },
     "metadata": {},
     "output_type": "display_data"
    }
   ],
   "source": [
    "from sklearn.metrics import confusion_matrix,precision_recall_curve,auc,roc_auc_score,roc_curve\n",
    "y_pred_score = lr.decision_function(X_test)\n",
    "fpr, tpr, thresholds = roc_curve(y_test.ravel(),y_pred_score)\n",
    "roc_auc = auc(fpr,tpr)\n",
    "\n",
    "plt.title('Receiver Operating Characteristic')\n",
    "plt.plot(fpr, tpr, 'b',label='AUC = %0.2f'% roc_auc)\n",
    "plt.legend(loc='lower right')\n",
    "plt.plot([0,1],[0,1],'r--')\n",
    "plt.xlim([-0.1,1.0])\n",
    "plt.ylim([-0.1,1.01])\n",
    "plt.ylabel('True Positive Rate')\n",
    "plt.xlabel('False Positive Rate')\n",
    "plt.show()"
   ]
  },
  {
   "cell_type": "markdown",
   "metadata": {},
   "source": [
    "## Credits\n",
    "https://www.kaggle.com/joparga3/in-depth-skewed-data-classif-93-recall-acc-now\n",
    "\n",
    "(joparga3)\n",
    "\n",
    "https://www.kaggle.com/ruskay7/classifying-credit-card-transactions-using-svm\n",
    "\n",
    "(Rohith Sai Krishna)"
   ]
  }
 ],
 "metadata": {
  "kernelspec": {
   "display_name": "Python 3",
   "language": "python",
   "name": "python3"
  },
  "language_info": {
   "codemirror_mode": {
    "name": "ipython",
    "version": 3
   },
   "file_extension": ".py",
   "mimetype": "text/x-python",
   "name": "python",
   "nbconvert_exporter": "python",
   "pygments_lexer": "ipython3",
   "version": "3.6.3"
  }
 },
 "nbformat": 4,
 "nbformat_minor": 2
}
